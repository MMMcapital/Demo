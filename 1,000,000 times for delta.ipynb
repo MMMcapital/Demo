{
 "cells": [
  {
   "cell_type": "markdown",
   "metadata": {},
   "source": [
    "# Calculating Option Greeks"
   ]
  },
  {
   "cell_type": "code",
   "execution_count": 1,
   "metadata": {
    "collapsed": true
   },
   "outputs": [],
   "source": [
    "import numpy as np\n",
    "from math import log, e, pi\n",
    "from scipy.stats import norm\n",
    "import matplotlib\n",
    "\n",
    "class BS(object):\n",
    "    def __init__(self, args):\n",
    "        self.Type = int(args[0])                  # 1 for a Call, - 1 for a put\n",
    "        self.S = float(args[1])                   # Underlying asset price\n",
    "        self.K = float(args[2])                   # Option strike K\n",
    "        self.r = float(args[3])                   # Continuous risk free rate\n",
    "        self.T = float(args[4]) /365              # Time to expiry\n",
    "        self.sigma = float(args[5]) /100          # Underlying volatility\n",
    "        \n",
    "        self.t = float(args[4])\n",
    "        self.sigmaT = self.sigma * self.T ** 0.5\n",
    "        self.dr = e ** -(self.r * self.T)\n",
    "        self.d1 = (log(self.S / self.K) + (self.r + 0.5 * (self.sigma ** 2)) * self.T) / self.sigmaT\n",
    "        self.d2 = (log(self.S / self.K) + (self.r - 0.5 * (self.sigma ** 2)) * self.T) / self.sigmaT\n",
    "        self.Price = self.Type * (self.S * norm.cdf(self.Type * self.d1) - self.K * self.dr * norm.cdf(self.Type * self.d2))\n",
    "        self.Delta = norm.cdf(self.Type * self.d1)\n",
    "        self.Gamma = norm.pdf(self.d1) / (self.S * self.sigmaT)\n",
    "        self.Vega = self.S * norm.pdf(self.d1) * self.T ** 0.5\n",
    "        self.Rho = self.Type * self.K * self.T * self.dr * norm.cdf(self.Type * self.d2)\n",
    "        self.Theta = (-0.5 * self.S * norm.pdf(self.d1) * self.sigma / (self.T ** 0.5) - self.Type * self.r * self.K * self.dr * norm.cdf(self.Type * self.d2))\n",
    "    \n",
    "    \n",
    "    def KO(self):\n",
    "        print('Stock Ticker: KO', '\\n'\n",
    "              'Option: Call', '\\n'\n",
    "              'Date: Feb 12th 2018', '\\n'\n",
    "              'Time to expiry: %2d' % self.t, '\\n'\n",
    "              'Underlying stock price: %.2f' % self.S, '\\n'\n",
    "              'Strike Price: %.1f' % self.K, '\\n'\n",
    "              'Option Price: %.3f' % self.Price, '\\n'\n",
    "              'delta: %.3f' % self.Delta, '\\n'\n",
    "              'gamma: %.3f' % self.Gamma, '\\n'\n",
    "              'vega: %.3f' % self.Vega, '\\n'\n",
    "              'rho: %.3f' % self.Rho, '\\n'\n",
    "              'theta: %.3f' % self.Theta)\n",
    "\n",
    "    def XOM(self):\n",
    "        print('Stock Ticker: XOM', '\\n'\n",
    "              'Option: Call', '\\n'\n",
    "              'Date: Feb 12th 2018', '\\n'\n",
    "              'Time to expiry: %2d' % self.t, '\\n'\n",
    "              'Underlying stock price: %.2f' % self.S, '\\n'\n",
    "              'Strike Price: %.1f' % self.K, '\\n'\n",
    "              'Option Price: %.3f' % self.Price, '\\n'\n",
    "              'delta: %.3f' % self.Delta, '\\n'\n",
    "              'gamma: %.3f' % self.Gamma, '\\n'\n",
    "              'vega: %.3f' % self.Vega, '\\n'\n",
    "              'rho: %.3f' % self.Rho, '\\n'\n",
    "              'theta: %.3f' % self.Theta)\n",
    "        "
   ]
  },
  {
   "cell_type": "markdown",
   "metadata": {},
   "source": [
    "# Finite Diffrencing"
   ]
  },
  {
   "cell_type": "code",
   "execution_count": 2,
   "metadata": {
    "collapsed": true
   },
   "outputs": [],
   "source": [
    "import random\n",
    "\n",
    "def finite_differencing(c):\n",
    "    epsilon = random.random()\n",
    "    C = BS(c)\n",
    "    temp1 = c[:]\n",
    "    temp1_ = c[:]\n",
    "    temp1[1] += epsilon\n",
    "    temp1_[1] += - epsilon\n",
    "    Temp1 = BS(temp1)\n",
    "    Temp1_ = BS(temp1_)\n",
    "    Delta = (Temp1.Price - C.Price) / epsilon\n",
    "\n",
    "    \n",
    "    Gamma = (Temp1.Price + Temp1_.Price - 2* C.Price) / (epsilon ** 2)\n",
    "\n",
    "    \n",
    "    temp2 = c[:]\n",
    "    temp2[5] += epsilon\n",
    "    Temp2 = BS(temp2)\n",
    "    Vega = (Temp2.Price - C.Price) / (epsilon / 100)\n",
    "\n",
    "        \n",
    "    temp3 = c[:]\n",
    "    temp3[3] += epsilon / 100\n",
    "    Temp3 = BS(temp3)\n",
    "    Rho = (Temp3.Price - C.Price) / (epsilon / 100)\n",
    "\n",
    "        \n",
    "    temp4 = c[:]\n",
    "    temp4[4] += epsilon\n",
    "    Temp4 = BS(temp4)\n",
    "    Theta = (C.Price - Temp4.Price) / (epsilon / 365)\n",
    "    \n",
    "    print('Testing with finite deffrencing', '\\n'\n",
    "          'delta: %.3f' % Delta, '\\n'\n",
    "          'gamma: %.3f' % Gamma, '\\n'\n",
    "          'vega: %.3f' % Vega, '\\n'\n",
    "          'rho: %.3f' % Rho, '\\n'\n",
    "          'theta: %.3f' % Theta) \n",
    "    \n",
    "    "
   ]
  },
  {
   "cell_type": "markdown",
   "metadata": {},
   "source": [
    "# Graphs"
   ]
  },
  {
   "cell_type": "markdown",
   "metadata": {},
   "source": [
    "# Monte Carlo Greeks"
   ]
  },
  {
   "cell_type": "markdown",
   "metadata": {
    "collapsed": true
   },
   "source": [
    "## Same Random Greeks"
   ]
  },
  {
   "cell_type": "code",
   "execution_count": 3,
   "metadata": {
    "collapsed": true
   },
   "outputs": [],
   "source": [
    "n = 1000000"
   ]
  },
  {
   "cell_type": "code",
   "execution_count": 4,
   "metadata": {
    "collapsed": true
   },
   "outputs": [],
   "source": [
    "import numpy as np\n",
    "import math\n",
    "import matplotlib.pyplot as plt\n",
    "from scipy.stats import norm\n",
    "from functools import reduce\n",
    "import random\n",
    "\n",
    "class MCs():\n",
    "    def __init__(self,c):\n",
    "        self.c = c[:]\n",
    "        self.st_mean = 0\n",
    "        self.Price=0\n",
    "        st=[]\n",
    "        price=[]\n",
    "        np.random.seed(5)\n",
    "        plt.cla()\n",
    "        for _ in range(n):\n",
    "            daily_returns = np.random.normal((self.c[3] / 365), self.c[5] / (100 * math.sqrt(365)), int(self.c[4])) + 1\n",
    "            price_list = [self.c[1]]\n",
    "            for x in daily_returns:\n",
    "                price_list.append(price_list[-1]*x)\n",
    "            plt.plot(price_list)\n",
    "            st.append(price_list[-1])\n",
    "            price.append(max(price_list[-1] - self.c[2],0))\n",
    "        self.st_mean = np.mean(st)\n",
    "        self.Price = np.mean(price)\n",
    "        \n",
    "    def plot(self):\n",
    "        plt.show()\n",
    "        print('The mean value of ST is: %.3f' % self.st_mean)\n",
    "        print('The mean value of call option price is: %.3f' % self.Price)\n",
    "\n",
    "    "
   ]
  },
  {
   "cell_type": "code",
   "execution_count": 5,
   "metadata": {
    "collapsed": true
   },
   "outputs": [],
   "source": [
    "def MCs_finite_differencing(c):\n",
    "    random.seed(5)\n",
    "    epsilon = random.random()\n",
    "    np.random.seed(5)\n",
    "    C = MCs(c)\n",
    "    \n",
    "    mctemp1 = c[:]\n",
    "    mctemp1_ = c[:]\n",
    "    mctemp1[1] += epsilon\n",
    "    mctemp1_[1] += - epsilon\n",
    "    MTemp1 = MCs(mctemp1)\n",
    "    MTemp1_ = MCs(mctemp1_)\n",
    "    Delta = (MTemp1.Price - C.Price) / epsilon\n",
    "\n",
    "\n",
    "    Gamma = (MTemp1.Price + MTemp1_.Price - 2* C.Price) / (epsilon ** 2)\n",
    "\n",
    "\n",
    "    mctemp2 = c[:]\n",
    "    mctemp2[5] += epsilon\n",
    "    MTemp2 = MCs(mctemp2)\n",
    "    Vega = (MTemp2.Price - C.Price) / (epsilon / 100)\n",
    "\n",
    "\n",
    "    mctemp3 = c[:]\n",
    "    mctemp3[3] += epsilon / 100\n",
    "    MTemp3 = MCs(mctemp3)\n",
    "    Rho = (MTemp3.Price - C.Price) / (epsilon / 100)\n",
    "\n",
    "\n",
    "    mctemp4 = c[:]\n",
    "    mctemp4[4] += epsilon * 10\n",
    "    MTemp4 = MCs(mctemp4)\n",
    "    Theta = (C.Price - MTemp4.Price) / (epsilon * 10 / 365)\n",
    "\n",
    "    print('Monte Carlo Greeks with same random', '\\n'\n",
    "          'delta: %.3f' % Delta, '\\n'\n",
    "          'gamma: %.3f' % Gamma, '\\n'\n",
    "          'vega: %.3f' % Vega, '\\n'\n",
    "          'rho: %.3f' % Rho, '\\n'\n",
    "          'theta: %.3f' % Theta) \n",
    "\n",
    "\n"
   ]
  },
  {
   "cell_type": "markdown",
   "metadata": {},
   "source": [
    "## Different Random Greeks"
   ]
  },
  {
   "cell_type": "code",
   "execution_count": 6,
   "metadata": {
    "collapsed": true
   },
   "outputs": [],
   "source": [
    "import numpy as np\n",
    "import math\n",
    "import matplotlib.pyplot as plt\n",
    "from scipy.stats import norm\n",
    "from functools import reduce\n",
    "import random\n",
    "\n",
    "class MC():\n",
    "    def __init__(self,c):\n",
    "        self.c = c[:]\n",
    "        self.st_mean = 0\n",
    "        self.Price=0\n",
    "        st=[]\n",
    "        price=[]\n",
    "        plt.cla()\n",
    "        for _ in range(n):\n",
    "            daily_returns = np.random.normal((self.c[3] / 365), self.c[5] / (100 * math.sqrt(365)), int(self.c[4])) + 1\n",
    "            price_list = [self.c[1]]\n",
    "            for x in daily_returns:\n",
    "                price_list.append(price_list[-1]*x)\n",
    "            plt.plot(price_list)\n",
    "            st.append(price_list[-1])\n",
    "            price.append(max(price_list[-1] - self.c[2],0))\n",
    "        self.st_mean = np.mean(st)\n",
    "        self.Price = np.mean(price)\n",
    "        \n",
    "    def plot(self):\n",
    "        plt.show()\n",
    "        print('The mean value of ST is: %.3f' % self.st_mean)\n",
    "        print('The mean value of call option price is: %.3f' % self.Price)\n",
    "\n",
    "    \n",
    "    "
   ]
  },
  {
   "cell_type": "code",
   "execution_count": 7,
   "metadata": {
    "collapsed": true
   },
   "outputs": [],
   "source": [
    "def MC_finite_differencing(c):\n",
    "    epsilon = random.random()\n",
    "    C = MC(c)\n",
    "\n",
    "    mctemp1 = c[:]\n",
    "    mctemp1_ = c[:]\n",
    "    mctemp1[1] += epsilon\n",
    "    mctemp1_[1] += - epsilon\n",
    "    MTemp1 = MC(mctemp1)\n",
    "    MTemp1_ = MC(mctemp1_)\n",
    "    Delta = (MTemp1.Price - C.Price) / epsilon\n",
    "\n",
    "\n",
    "    Gamma = (MTemp1.Price + MTemp1_.Price - 2* C.Price) / (epsilon ** 2)\n",
    "\n",
    "\n",
    "    mctemp2 = c[:]\n",
    "    mctemp2[5] += epsilon\n",
    "    MTemp2 = MC(mctemp2)\n",
    "    Vega = (MTemp2.Price - C.Price) / (epsilon / 100)\n",
    "\n",
    "\n",
    "    mctemp3 = c[:]\n",
    "    mctemp3[3] += epsilon / 100\n",
    "    MTemp3 = MC(mctemp3)\n",
    "    Rho = (MTemp3.Price - C.Price) / (epsilon / 100)\n",
    "\n",
    "\n",
    "    mctemp4 = c[:]\n",
    "    mctemp4[4] += epsilon\n",
    "    MTemp4 = MC(mctemp4)\n",
    "    Theta = (C.Price - MTemp4.Price) / (epsilon / 365)\n",
    "\n",
    "    print('Monte Carlo Greeks with different random', '\\n'\n",
    "          'delta: %.3f' % Delta, '\\n'\n",
    "          'gamma: %.3f' % Gamma, '\\n'\n",
    "          'vega: %.3f' % Vega, '\\n'\n",
    "          'rho: %.3f' % Rho, '\\n'\n",
    "          'theta: %.3f' % Theta) \n",
    "\n",
    "\n",
    "\n",
    "\n"
   ]
  },
  {
   "cell_type": "markdown",
   "metadata": {},
   "source": [
    "### Pathwise Method for $\\Delta$"
   ]
  },
  {
   "cell_type": "code",
   "execution_count": 8,
   "metadata": {
    "collapsed": true
   },
   "outputs": [],
   "source": [
    "from math import e\n",
    "from functools import reduce\n",
    "def pathwiseDelta(c):\n",
    "    delta = []\n",
    "    for _ in range(n):\n",
    "        daily_returns = np.random.normal((c[3] / 365), c[5] / (100 * math.sqrt(365)), int(c[4])) + 1\n",
    "        st = reduce(lambda x, y : x * y, daily_returns) * c[1]\n",
    "        index =(1 if st - c[2] > 0 else 0 )\n",
    "        delta.append((e ** -(c[3] * c[4] / 365)) * index * st / c[1])\n",
    "    print('Pathwise Method for delta is: %.3f' % np.mean(delta))\n",
    "    \n",
    "    "
   ]
  },
  {
   "cell_type": "markdown",
   "metadata": {},
   "source": [
    "### Likelihood Ratio Method for $\\Delta$"
   ]
  },
  {
   "cell_type": "code",
   "execution_count": 9,
   "metadata": {
    "collapsed": true
   },
   "outputs": [],
   "source": [
    "from math import e,log\n",
    "from functools import reduce\n",
    "def likelihoodDelta(c):\n",
    "    delta = []\n",
    "    for _ in range(n):\n",
    "        daily_returns = np.random.normal((c[3] / 365), c[5] / (100 * math.sqrt(365)), int(c[4])) + 1\n",
    "        st = reduce(lambda x,y:x*y,daily_returns)*c[1]\n",
    "        index =(st-c[2] if st - c[2] > 0 else 0 )\n",
    "        xi = (log(st / c[1]) - (c[3] - (c[5] / 100) ** 2 / 2) * c[5] / 100) / (c[5] / 100 * math.sqrt(c[4] / 365))\n",
    "        delta.append((e**-(c[3]*c[4]/365))*index*xi/(c[1]*math.sqrt(c[4]/365)*c[5]/100))\n",
    "    print('Likelihood Ratio Method for delta is: %.3f' % np.mean(delta))\n",
    "    \n",
    "    "
   ]
  },
  {
   "cell_type": "markdown",
   "metadata": {},
   "source": [
    "# Results"
   ]
  },
  {
   "cell_type": "code",
   "execution_count": 10,
   "metadata": {
    "collapsed": true
   },
   "outputs": [],
   "source": [
    "K1 = [1, 43.59, 42, 0.03, 32, 23.9027]\n",
    "K2 = [1, 43.59, 44, 0.03, 32, 21.1747]\n",
    "K3 = [1, 43.59, 46, 0.03, 32, 19.8744]\n",
    "K4 = [1, 43.59, 42, 0.03, 67, 22.0376]\n",
    "K5 = [1, 43.59, 44, 0.03, 67, 19.6237]\n",
    "K6 = [1, 43.59, 46, 0.03, 67, 18.2047]\n",
    "X1 = [1, 75.65, 72.5, 0.03, 32, 27.1732]\n",
    "X2 = [1, 75.65, 75, 0.03, 32, 24.7258]\n",
    "X3 = [1, 75.65, 77.5, 0.03, 32, 23.2191]\n",
    "X4 = [1, 75.65, 72.5, 0.03, 67, 24.4788]\n",
    "X5 = [1, 75.65, 75, 0.03, 67, 22.8503]\n",
    "X6 = [1, 75.65, 77.5, 0.03, 67, 21.6262]\n",
    "\n"
   ]
  },
  {
   "cell_type": "code",
   "execution_count": 11,
   "metadata": {
    "collapsed": true
   },
   "outputs": [],
   "source": [
    "# k1 = BS(K1)\n",
    "# k1.KO()\n",
    "# finite_differencing(K1)\n",
    "# pathwiseDelta(K1)\n",
    "# likelihoodDelta(K1)\n",
    "\n"
   ]
  },
  {
   "cell_type": "code",
   "execution_count": 12,
   "metadata": {
    "collapsed": true
   },
   "outputs": [],
   "source": [
    "# mcsk1 = MCs(K1)\n",
    "# mcsk1.plot()\n",
    "# MCs_finite_differencing(K1)\n",
    "# mck1 = MC(K1)\n",
    "# mck1.plot()\n",
    "# MC_finite_differencing(K1)\n",
    "\n"
   ]
  },
  {
   "cell_type": "code",
   "execution_count": 13,
   "metadata": {},
   "outputs": [
    {
     "name": "stdout",
     "output_type": "stream",
     "text": [
      "Stock Ticker: KO \n",
      "Option: Call \n",
      "Date: Feb 12th 2018 \n",
      "Time to expiry: 32 \n",
      "Underlying stock price: 43.59 \n",
      "Strike Price: 44.0 \n",
      "Option Price: 0.953 \n",
      "delta: 0.470 \n",
      "gamma: 0.146 \n",
      "vega: 5.134 \n",
      "rho: 1.711 \n",
      "theta: -6.786\n",
      "Testing with finite deffrencing \n",
      "delta: 0.506 \n",
      "gamma: 0.145 \n",
      "vega: 5.135 \n",
      "rho: 1.716 \n",
      "theta: -6.762\n",
      "Pathwise Method for delta is: 0.470\n",
      "Likelihood Ratio Method for delta is: 0.463\n"
     ]
    }
   ],
   "source": [
    "k2 = BS(K2)\n",
    "k2.KO()\n",
    "finite_differencing(K2)\n",
    "pathwiseDelta(K2)\n",
    "likelihoodDelta(K2)\n",
    "\n"
   ]
  },
  {
   "cell_type": "code",
   "execution_count": 14,
   "metadata": {},
   "outputs": [],
   "source": [
    "# mcsk2 = MCs(K2)\n",
    "# mcsk2.plot()\n",
    "# MCs_finite_differencing(K2)\n",
    "# mck2 = MC(K2)\n",
    "# mck2.plot()\n",
    "# MC_finite_differencing(K2)\n",
    "\n"
   ]
  },
  {
   "cell_type": "code",
   "execution_count": 15,
   "metadata": {
    "collapsed": true
   },
   "outputs": [],
   "source": [
    "# k3 = BS(K3)\n",
    "# k3.KO()\n",
    "# finite_differencing(K3)\n",
    "# pathwiseDelta(K3)\n",
    "# likelihoodDelta(K3)\n",
    "\n"
   ]
  },
  {
   "cell_type": "code",
   "execution_count": 16,
   "metadata": {
    "collapsed": true
   },
   "outputs": [],
   "source": [
    "# mcsk3 = MCs(K3)\n",
    "# mcsk3.plot()\n",
    "# MCs_finite_differencing(K3)\n",
    "# mck3 = MC(K3)\n",
    "# mck3.plot()\n",
    "# MC_finite_differencing(K3)\n",
    "\n"
   ]
  },
  {
   "cell_type": "code",
   "execution_count": 17,
   "metadata": {
    "collapsed": true
   },
   "outputs": [],
   "source": [
    "# k4 = BS(K4)\n",
    "# k4.KO()\n",
    "# finite_differencing(K4)\n",
    "# pathwiseDelta(K4)\n",
    "# likelihoodDelta(K4)\n",
    "\n"
   ]
  },
  {
   "cell_type": "code",
   "execution_count": 18,
   "metadata": {
    "collapsed": true
   },
   "outputs": [],
   "source": [
    "# mcsk4 = MCs(K4)\n",
    "# mcsk4.plot()\n",
    "# MCs_finite_differencing(K4)\n",
    "# mck4 = MC(K4)\n",
    "# mck4.plot()\n",
    "# MC_finite_differencing(K4)\n",
    "\n"
   ]
  },
  {
   "cell_type": "code",
   "execution_count": 19,
   "metadata": {},
   "outputs": [
    {
     "name": "stdout",
     "output_type": "stream",
     "text": [
      "Stock Ticker: KO \n",
      "Option: Call \n",
      "Date: Feb 12th 2018 \n",
      "Time to expiry: 67 \n",
      "Underlying stock price: 43.59 \n",
      "Strike Price: 44.0 \n",
      "Option Price: 1.382 \n",
      "delta: 0.498 \n",
      "gamma: 0.109 \n",
      "vega: 7.450 \n",
      "rho: 3.735 \n",
      "theta: -4.593\n",
      "Testing with finite deffrencing \n",
      "delta: 0.517 \n",
      "gamma: 0.109 \n",
      "vega: 7.451 \n",
      "rho: 3.746 \n",
      "theta: -4.588\n",
      "Pathwise Method for delta is: 0.499\n",
      "Likelihood Ratio Method for delta is: 0.498\n"
     ]
    }
   ],
   "source": [
    "k5 = BS(K5)\n",
    "k5.KO()\n",
    "finite_differencing(K5)\n",
    "pathwiseDelta(K5)\n",
    "likelihoodDelta(K5)\n",
    "\n"
   ]
  },
  {
   "cell_type": "code",
   "execution_count": 20,
   "metadata": {},
   "outputs": [],
   "source": [
    "# mcsk5 = MCs(K5)\n",
    "# mcsk5.plot()\n",
    "# MCs_finite_differencing(K5)\n",
    "# mck5 = MC(K5)\n",
    "# mck5.plot()\n",
    "# MC_finite_differencing(K5)\n",
    "\n"
   ]
  },
  {
   "cell_type": "code",
   "execution_count": 21,
   "metadata": {
    "collapsed": true
   },
   "outputs": [],
   "source": [
    "# k6 = BS(K6)\n",
    "# k6.KO()\n",
    "# finite_differencing(K6)\n",
    "# pathwiseDelta(K6)\n",
    "# likelihoodDelta(K6)\n",
    "\n"
   ]
  },
  {
   "cell_type": "code",
   "execution_count": 22,
   "metadata": {
    "collapsed": true
   },
   "outputs": [],
   "source": [
    "# mcsk6 = MCs(K6)\n",
    "# mcsk6.plot()\n",
    "# MCs_finite_differencing(K6)\n",
    "# mck6 = MC(K6)\n",
    "# mck6.plot()\n",
    "# MC_finite_differencing(K6)\n",
    "\n"
   ]
  },
  {
   "cell_type": "code",
   "execution_count": 23,
   "metadata": {
    "collapsed": true
   },
   "outputs": [],
   "source": [
    "# x1 = BS(X1)\n",
    "# x1.XOM()\n",
    "# finite_differencing(X1)\n",
    "# pathwiseDelta(X1)\n",
    "# likelihoodDelta(X1)\n",
    "\n"
   ]
  },
  {
   "cell_type": "code",
   "execution_count": 24,
   "metadata": {
    "collapsed": true
   },
   "outputs": [],
   "source": [
    "# mcsx1 = MCs(X1)\n",
    "# mcsx1.plot()\n",
    "# MCs_finite_differencing(X1)\n",
    "# mcx1 = MC(X1)\n",
    "# mcx1.plot()\n",
    "# MC_finite_differencing(X1)\n",
    "\n"
   ]
  },
  {
   "cell_type": "code",
   "execution_count": 25,
   "metadata": {},
   "outputs": [
    {
     "name": "stdout",
     "output_type": "stream",
     "text": [
      "Stock Ticker: XOM \n",
      "Option: Call \n",
      "Date: Feb 12th 2018 \n",
      "Time to expiry: 32 \n",
      "Underlying stock price: 75.65 \n",
      "Strike Price: 75.0 \n",
      "Option Price: 2.646 \n",
      "delta: 0.576 \n",
      "gamma: 0.071 \n",
      "vega: 8.776 \n",
      "rho: 3.585 \n",
      "theta: -13.602\n",
      "Testing with finite deffrencing \n",
      "delta: 0.610 \n",
      "gamma: 0.071 \n",
      "vega: 8.779 \n",
      "rho: 3.599 \n",
      "theta: -13.508\n",
      "Pathwise Method for delta is: 0.577\n",
      "Likelihood Ratio Method for delta is: 0.574\n"
     ]
    }
   ],
   "source": [
    "x2 = BS(X2)\n",
    "x2.XOM()\n",
    "finite_differencing(X2)\n",
    "pathwiseDelta(X2)\n",
    "likelihoodDelta(X2)\n",
    "\n"
   ]
  },
  {
   "cell_type": "code",
   "execution_count": 26,
   "metadata": {},
   "outputs": [],
   "source": [
    "# mcsx2 = MCs(X2)\n",
    "# mcsx2.plot()\n",
    "# MCs_finite_differencing(X2)\n",
    "# mcx2 = MC(X2)\n",
    "# mcx2.plot()\n",
    "# MC_finite_differencing(X2)\n",
    "\n"
   ]
  },
  {
   "cell_type": "code",
   "execution_count": 27,
   "metadata": {
    "collapsed": true
   },
   "outputs": [],
   "source": [
    "# x3 = BS(X3)\n",
    "# x3.XOM()\n",
    "# finite_differencing(X3)\n",
    "# pathwiseDelta(X3)\n",
    "# likelihoodDelta(X3)\n",
    "\n"
   ]
  },
  {
   "cell_type": "code",
   "execution_count": 28,
   "metadata": {
    "collapsed": true
   },
   "outputs": [],
   "source": [
    "# mcsx3 = MCs(X3)\n",
    "# mcsx3.plot()\n",
    "# MCs_finite_differencing(X3)\n",
    "# mcx3 = MC(X3)\n",
    "# mcx3.plot()\n",
    "# MC_finite_differencing(X3)\n",
    "\n"
   ]
  },
  {
   "cell_type": "code",
   "execution_count": 29,
   "metadata": {
    "collapsed": true
   },
   "outputs": [],
   "source": [
    "# x4 = BS(X4)\n",
    "# x4.XOM()\n",
    "# finite_differencing(X4)\n",
    "# pathwiseDelta(X4)\n",
    "# likelihoodDelta(X4)\n",
    "\n"
   ]
  },
  {
   "cell_type": "code",
   "execution_count": 30,
   "metadata": {
    "collapsed": true
   },
   "outputs": [],
   "source": [
    "# mcsx4 = MCs(X4)\n",
    "# mcsx4.plot()\n",
    "# MCs_finite_differencing(X4)\n",
    "# mcx4 = MC(X4)\n",
    "# mcx4.plot()\n",
    "# MC_finite_differencing(X4)\n",
    "\n"
   ]
  },
  {
   "cell_type": "code",
   "execution_count": 31,
   "metadata": {
    "scrolled": true
   },
   "outputs": [
    {
     "name": "stdout",
     "output_type": "stream",
     "text": [
      "Stock Ticker: XOM \n",
      "Option: Call \n",
      "Date: Feb 12th 2018 \n",
      "Time to expiry: 67 \n",
      "Underlying stock price: 75.65 \n",
      "Strike Price: 75.0 \n",
      "Option Price: 3.494 \n",
      "delta: 0.577 \n",
      "gamma: 0.053 \n",
      "vega: 12.691 \n",
      "rho: 7.366 \n",
      "theta: -9.103\n",
      "Testing with finite deffrencing \n",
      "delta: 0.581 \n",
      "gamma: 0.053 \n",
      "vega: 12.692 \n",
      "rho: 7.373 \n",
      "theta: -9.099\n",
      "Pathwise Method for delta is: 0.577\n",
      "Likelihood Ratio Method for delta is: 0.574\n"
     ]
    }
   ],
   "source": [
    "x5 = BS(X5)\n",
    "x5.XOM()\n",
    "finite_differencing(X5)\n",
    "pathwiseDelta(X5)\n",
    "likelihoodDelta(X5)\n",
    "\n"
   ]
  },
  {
   "cell_type": "code",
   "execution_count": 32,
   "metadata": {},
   "outputs": [],
   "source": [
    "# mcsx5 = MCs(X5)\n",
    "# mcsx5.plot()\n",
    "# MCs_finite_differencing(X5)\n",
    "# mcx5 = MC(X5)\n",
    "# mcx5.plot()\n",
    "# MC_finite_differencing(X5)\n",
    "\n"
   ]
  },
  {
   "cell_type": "code",
   "execution_count": 33,
   "metadata": {
    "collapsed": true
   },
   "outputs": [],
   "source": [
    "# x6 = BS(X6)\n",
    "# x6.XOM()\n",
    "# finite_differencing(X6)\n",
    "# pathwiseDelta(X6)\n",
    "# likelihoodDelta(X6)\n",
    "\n"
   ]
  },
  {
   "cell_type": "code",
   "execution_count": 34,
   "metadata": {
    "collapsed": true
   },
   "outputs": [],
   "source": [
    "# mcsx6 = MCs(X6)\n",
    "# mcsx6.plot()\n",
    "# MCs_finite_differencing(X6)\n",
    "# mcx6 = MC(X6)\n",
    "# mcx6.plot()\n",
    "# MC_finite_differencing(X6)\n",
    "\n"
   ]
  }
 ],
 "metadata": {
  "kernelspec": {
   "display_name": "Python 3",
   "language": "python",
   "name": "python3"
  },
  "language_info": {
   "codemirror_mode": {
    "name": "ipython",
    "version": 3
   },
   "file_extension": ".py",
   "mimetype": "text/x-python",
   "name": "python",
   "nbconvert_exporter": "python",
   "pygments_lexer": "ipython3",
   "version": "3.6.2"
  }
 },
 "nbformat": 4,
 "nbformat_minor": 2
}
